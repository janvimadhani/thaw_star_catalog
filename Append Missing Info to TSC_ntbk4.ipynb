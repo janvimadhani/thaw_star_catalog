{
 "cells": [
  {
   "cell_type": "markdown",
   "metadata": {},
   "source": [
    "# Notebook 4\n",
    "This notebook is to append to or format anything in the master table"
   ]
  },
  {
   "cell_type": "code",
   "execution_count": 1,
   "metadata": {},
   "outputs": [
    {
     "name": "stdout",
     "output_type": "stream",
     "text": [
      "Populating the interactive namespace from numpy and matplotlib\n"
     ]
    }
   ],
   "source": [
    "%pylab inline\n",
    "from astropy.table import Table, hstack,vstack, Column, QTable\n",
    "from astropy.io import fits\n",
    "import astropy.units as u\n",
    "from astropy.coordinates import SkyCoord\n",
    "from astropy.coordinates import FK5\n",
    "from astropy.time import Time\n",
    "from astropy.coordinates import Angle\n",
    "from astropy.io import ascii\n",
    "import numpy.ma as ma"
   ]
  },
  {
   "cell_type": "code",
   "execution_count": 2,
   "metadata": {},
   "outputs": [],
   "source": [
    "### use the master table here \n",
    "tsc = Table.read('/Users/JanviMadhani/thaw_star_catalog/subtables/master.csv') ### change file path to your computer location"
   ]
  },
  {
   "cell_type": "code",
   "execution_count": 3,
   "metadata": {},
   "outputs": [
    {
     "data": {
      "text/plain": [
       "['Thaw Number',\n",
       " 'YPC Number',\n",
       " 'YPC Component',\n",
       " 'Thaw Name',\n",
       " 'YPC Name',\n",
       " 'BD Number',\n",
       " 'Thaw RA1900',\n",
       " 'Thaw Dec1900',\n",
       " 'YPC RA1900',\n",
       " 'YPC Dec1900',\n",
       " 'RA1950',\n",
       " 'Dec1950',\n",
       " 'RA2000',\n",
       " 'Dec2000',\n",
       " 'Thaw B',\n",
       " 'YPC (B-V)',\n",
       " 'YPC V',\n",
       " 'Thaw Spectrum',\n",
       " 'YPC Spectrum',\n",
       " 'Thaw Rel. Parallax',\n",
       " 'Thaw Rel. Parallax Error',\n",
       " 'Delta Pi',\n",
       " 'Thaw Abs. Parallax',\n",
       " 'Yale Abs. Parallax',\n",
       " 'Yale Abs. Parallax Error',\n",
       " 'Yale Tot. PM',\n",
       " 'Yale PM Position Angle',\n",
       " 'No. of Thaw Observations',\n",
       " 'Thaw Footnotes',\n",
       " 'Index Card Match Entry',\n",
       " 'Index Card Field Name',\n",
       " 'Index Card Mag.',\n",
       " 'Index Card RA',\n",
       " 'Index Card Dec',\n",
       " 'Index Card Equinox',\n",
       " 'Observations']"
      ]
     },
     "execution_count": 3,
     "metadata": {},
     "output_type": "execute_result"
    }
   ],
   "source": [
    "tsc.colnames"
   ]
  },
  {
   "cell_type": "code",
   "execution_count": 4,
   "metadata": {},
   "outputs": [],
   "source": [
    "### add in column for date of publication\n",
    "pub_date = Column(np.zeros(len(tsc)))\n",
    "tsc.add_column(pub_date, name='Date of Publication')\n",
    "tsc['Date of Publication'] = tsc['Date of Publication'].astype(object)"
   ]
  },
  {
   "cell_type": "markdown",
   "metadata": {},
   "source": [
    "### Incorporate Data Entry 1"
   ]
  },
  {
   "cell_type": "code",
   "execution_count": null,
   "metadata": {},
   "outputs": [],
   "source": [
    "# write a function to add together two hour angles to go from 1900 to 2000 coordinates\n",
    "\n",
    "#first convert to arcminutes\n",
    "def arcminutes(hourangle):\n",
    "    if not ma.is_masked(hourangle):\n",
    "        if len(hourangle.split()) >= 3:\n",
    "\n",
    "            h,m,s = hourangle.split()[0],hourangle.split()[1],hourangle.split()[2] #or degree, 1hr = 60', 1 deg = 60'\n",
    "            #get rid of +/- in front of dec degrees\n",
    "            if h[0].isdigit():\n",
    "                hour = h\n",
    "            else:\n",
    "                hour = h[1:]\n",
    "                \n",
    "\n",
    "            hour = float(hour)\n",
    "            minute = float(m)\n",
    "            sec = float(s)\n",
    "\n",
    "\n",
    "            minutes = (hour*60) + (minute) + (sec/60)\n",
    "            \n",
    "        elif len(hourangle.split()) >= 2:\n",
    "            m,s = hourangle.split()[0],hourangle.split()[1]\n",
    "            \n",
    "            if m[0].isdigit():\n",
    "                minute = m\n",
    "            else:\n",
    "                minute = m[1:]\n",
    "                \n",
    "            minute = float(m)\n",
    "            sec = float(s)\n",
    "            \n",
    "            minutes = (minute) + (sec/60)\n",
    "        else:\n",
    "            minutes = 0\n",
    "    else:\n",
    "        minutes = 0\n",
    "    return float(\"%.2f\" % minutes)\n",
    "\n",
    "        \n",
    "        \n",
    "def add_hourangle(c1900,secval):\n",
    "    \"\"\"\n",
    "    parameters: 1900 coordinates (RA or Dec) [hh mm ss]\n",
    "                secular variation in coordinates over 100 years (RA or Dec) [hh mm ss]\n",
    "    returns: 2000 coordinates [hh mm ss]\n",
    "    \"\"\"\n",
    "    if not ma.is_masked(c1900):\n",
    "        c1900 = str(c1900)\n",
    "        secval = str(secval)\n",
    "        \n",
    "        ### get the signs out front\n",
    "        if not c1900[0].isdigit():\n",
    "            sign1 = c1900[0]\n",
    "            if sign1 == '-':\n",
    "                sign1 = '-1'\n",
    "            else:\n",
    "                sign1 = '1'\n",
    "            c1900 = c1900[1:]\n",
    "        else:\n",
    "            sign1 = '1'\n",
    "        if not secval[0].isdigit():\n",
    "            sign2 = secval[0]\n",
    "            if sign2 == '-':\n",
    "                sign2 = '-1'\n",
    "            else:\n",
    "                sign2 = '1'\n",
    "            secval = secval[1:]\n",
    "        else:\n",
    "            sign2 = '1'\n",
    "        \n",
    "        min_1900 = arcminutes(c1900)\n",
    "        min_secval = arcminutes(secval)\n",
    "        \n",
    "        \n",
    "        min_2000 = (float(sign1)*min_1900) + (float(sign2)*min_secval)\n",
    "        \n",
    "        print(min_2000)\n",
    "        \n",
    "        hours = \"%.2f\" % (float(min_2000)/60)\n",
    "        \n",
    "        minutes = \"%.2f\" % (float(min_2000) % 60)\n",
    "        \n",
    "        seconds = \"%.2f\" % ((float(min_2000) * 60) % 60)\n",
    "        \n",
    "        hours = str(hours)\n",
    "        minutes = str(minutes)\n",
    "        seconds = str(seconds)\n",
    "        \n",
    "        hours = hours.zfill(5)[:2]\n",
    "        minutes = minutes.zfill(5)[:2]\n",
    "    \n",
    "        \n",
    "        hourangle = hours + ' ' + minutes + ' '+ seconds\n",
    "    else:\n",
    "        hourangle = ''\n",
    "        \n",
    "    \n",
    "    \n",
    "    return hourangle\n",
    "    "
   ]
  },
  {
   "cell_type": "code",
   "execution_count": null,
   "metadata": {},
   "outputs": [],
   "source": [
    "fake1900 = '00 00 12.776'\n",
    "fakesecval = '05 09.209'\n",
    "print(add_hourangle(fake1900,fakesecval))"
   ]
  },
  {
   "cell_type": "markdown",
   "metadata": {},
   "source": [
    "## Incorporate Data Entry 2 ( Delta Pi Values)\n",
    "Assuming a 1-to-1 match between TSC number and Delta Pi Values"
   ]
  },
  {
   "cell_type": "code",
   "execution_count": 5,
   "metadata": {},
   "outputs": [],
   "source": [
    "delta_pi_vals = Table.read('filepath_here') # <--- INSERT file path to csv file with one column with TSC number \n",
    "                                            # and second column with delta pi value\n",
    "\n"
   ]
  },
  {
   "cell_type": "code",
   "execution_count": null,
   "metadata": {},
   "outputs": [],
   "source": [
    "###fill out master table with delta pi values matching based on tsc number between the two files\n",
    "for i in range(len(tsc)):\n",
    "    master_thaw_no = tsc['Thaw Number'][i]\n",
    "    dp_thaw_no = delta_pi_vals['Thaw Number'][i] #CHANGE the name here to the name of the column that has TSC no\n",
    "    \n",
    "    if str(master_thaw_no) == str(dp_thaw_no): #look for the matching case between both files\n",
    "        tsc['Delta Pi'][i] = delta_pi_vals['Delta Pi'][i] #sets the value in the master table,\n",
    "                                                          #CHANGE the name of the column that holds the delta pi value here"
   ]
  },
  {
   "cell_type": "code",
   "execution_count": null,
   "metadata": {},
   "outputs": [],
   "source": [
    "#CHECK to make sure values filled out as expected\n",
    "tsc.show_in_notebook()"
   ]
  },
  {
   "cell_type": "code",
   "execution_count": 6,
   "metadata": {},
   "outputs": [],
   "source": [
    "### update francis' table\n",
    "### incorporate new parallax values\n",
    "\n"
   ]
  },
  {
   "cell_type": "code",
   "execution_count": null,
   "metadata": {},
   "outputs": [],
   "source": []
  }
 ],
 "metadata": {
  "kernelspec": {
   "display_name": "Python 3",
   "language": "python",
   "name": "python3"
  },
  "language_info": {
   "codemirror_mode": {
    "name": "ipython",
    "version": 3
   },
   "file_extension": ".py",
   "mimetype": "text/x-python",
   "name": "python",
   "nbconvert_exporter": "python",
   "pygments_lexer": "ipython3",
   "version": "3.7.4"
  }
 },
 "nbformat": 4,
 "nbformat_minor": 2
}
